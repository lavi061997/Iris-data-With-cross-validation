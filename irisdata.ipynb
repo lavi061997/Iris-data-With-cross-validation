{
 "cells": [
  {
   "cell_type": "code",
   "execution_count": 2,
   "metadata": {
    "collapsed": false
   },
   "outputs": [],
   "source": [
    "from sklearn.datasets import load_iris\n",
    "from sklearn.model_selection import train_test_split\n",
    "from sklearn.neighbors import KNeighborsClassifier\n",
    "from sklearn import metrics"
   ]
  },
  {
   "cell_type": "code",
   "execution_count": 3,
   "metadata": {
    "collapsed": true
   },
   "outputs": [],
   "source": [
    "\n",
    "\n",
    "# read in the iris data\n",
    "iris = load_iris()\n",
    "\n",
    "# create X (features) and y (response)\n",
    "X = iris.data\n",
    "y = iris.target\n",
    "\n"
   ]
  },
  {
   "cell_type": "code",
   "execution_count": 4,
   "metadata": {
    "collapsed": false
   },
   "outputs": [
    {
     "name": "stdout",
     "output_type": "stream",
     "text": [
      "0.973684210526\n"
     ]
    }
   ],
   "source": [
    "\n",
    "\n",
    "# use train/test split with different random_state values\n",
    "X_train, X_test, y_train, y_test = train_test_split(X, y, random_state=4)\n",
    "\n",
    "# check classification accuracy of KNN with K=5\n",
    "knn = KNeighborsClassifier(n_neighbors=5)\n",
    "knn.fit(X_train, y_train)\n",
    "y_pred = knn.predict(X_test)\n",
    "print(metrics.accuracy_score(y_test, y_pred))\n",
    "\n"
   ]
  },
  {
   "cell_type": "code",
   "execution_count": 5,
   "metadata": {
    "collapsed": true
   },
   "outputs": [],
   "source": [
    "from sklearn.model_selection import cross_val_score"
   ]
  },
  {
   "cell_type": "code",
   "execution_count": 9,
   "metadata": {
    "collapsed": false
   },
   "outputs": [
    {
     "name": "stdout",
     "output_type": "stream",
     "text": [
      "[ 1.          0.93333333  1.          0.93333333  0.86666667  1.\n",
      "  0.86666667  1.          1.          1.        ]\n",
      "next\n",
      "[ 1.          0.93333333  1.          0.93333333  0.86666667  1.\n",
      "  0.86666667  0.93333333  1.          1.        ]\n",
      "next\n",
      "[ 1.          0.93333333  1.          0.93333333  0.86666667  1.\n",
      "  0.93333333  1.          1.          1.        ]\n",
      "next\n",
      "[ 1.          0.93333333  1.          0.93333333  0.86666667  1.\n",
      "  0.93333333  1.          1.          1.        ]\n",
      "next\n",
      "[ 1.          0.93333333  1.          1.          0.86666667  0.93333333\n",
      "  0.93333333  1.          1.          1.        ]\n",
      "next\n",
      "[ 1.          0.93333333  1.          1.          0.86666667  0.93333333\n",
      "  0.93333333  1.          1.          1.        ]\n",
      "next\n",
      "[ 1.          0.93333333  1.          1.          0.86666667  0.93333333\n",
      "  0.93333333  1.          1.          1.        ]\n",
      "next\n",
      "[ 1.          0.93333333  1.          1.          1.          0.86666667\n",
      "  0.93333333  0.93333333  1.          1.        ]\n",
      "next\n",
      "[ 1.          0.93333333  1.          1.          1.          0.93333333\n",
      "  0.93333333  0.93333333  1.          1.        ]\n",
      "next\n",
      "[ 1.          0.93333333  1.          1.          1.          0.86666667\n",
      "  0.93333333  0.93333333  1.          1.        ]\n",
      "next\n",
      "[ 1.          0.93333333  1.          1.          1.          0.86666667\n",
      "  0.93333333  0.93333333  1.          1.        ]\n",
      "next\n",
      "[ 1.          0.93333333  1.          1.          1.          0.93333333\n",
      "  0.93333333  0.93333333  1.          1.        ]\n",
      "next\n",
      "[ 1.          0.93333333  1.          1.          1.          0.93333333\n",
      "  0.93333333  1.          1.          1.        ]\n",
      "next\n",
      "[ 1.          0.93333333  1.          1.          1.          0.86666667\n",
      "  0.93333333  1.          1.          1.        ]\n",
      "next\n",
      "[ 0.93333333  0.93333333  1.          1.          1.          0.93333333\n",
      "  0.93333333  1.          1.          1.        ]\n",
      "next\n",
      "[ 1.          0.93333333  1.          1.          1.          0.93333333\n",
      "  0.93333333  0.93333333  1.          1.        ]\n",
      "next\n",
      "[ 0.93333333  0.93333333  1.          1.          1.          0.93333333\n",
      "  0.93333333  1.          1.          1.        ]\n",
      "next\n",
      "[ 1.          0.93333333  1.          1.          1.          0.93333333\n",
      "  0.93333333  1.          1.          1.        ]\n",
      "next\n",
      "[ 0.93333333  0.93333333  1.          1.          1.          0.93333333\n",
      "  0.93333333  1.          1.          1.        ]\n",
      "next\n",
      "[ 1.          0.93333333  1.          1.          1.          0.93333333\n",
      "  0.93333333  1.          1.          1.        ]\n",
      "next\n",
      "[ 0.93333333  0.93333333  1.          1.          0.93333333  0.93333333\n",
      "  0.93333333  1.          1.          1.        ]\n",
      "next\n",
      "[ 0.93333333  0.93333333  1.          1.          1.          0.93333333\n",
      "  0.93333333  0.93333333  1.          1.        ]\n",
      "next\n",
      "[ 0.93333333  0.93333333  1.          1.          1.          0.93333333\n",
      "  0.93333333  1.          1.          1.        ]\n",
      "next\n",
      "[ 0.93333333  0.93333333  1.          1.          1.          0.86666667\n",
      "  0.93333333  0.93333333  1.          1.        ]\n",
      "next\n",
      "[ 0.93333333  0.93333333  1.          1.          1.          0.93333333\n",
      "  0.93333333  0.93333333  1.          1.        ]\n",
      "next\n"
     ]
    }
   ],
   "source": [
    "\n",
    "# 10-fold cross-validation with K=5 for KNN (the n_neighbors parameter)\n",
    "for k in range(1,26):\n",
    "    knn = KNeighborsClassifier(n_neighbors=k)\n",
    "    scores = cross_val_score(knn, X, y, cv=10, scoring='accuracy')\n",
    "    print(scores)\n",
    "    print(\"next\")\n",
    "\n"
   ]
  },
  {
   "cell_type": "code",
   "execution_count": null,
   "metadata": {
    "collapsed": true
   },
   "outputs": [],
   "source": []
  }
 ],
 "metadata": {
  "kernelspec": {
   "display_name": "Python 3",
   "language": "python",
   "name": "python3"
  },
  "language_info": {
   "codemirror_mode": {
    "name": "ipython",
    "version": 3
   },
   "file_extension": ".py",
   "mimetype": "text/x-python",
   "name": "python",
   "nbconvert_exporter": "python",
   "pygments_lexer": "ipython3",
   "version": "3.6.0"
  }
 },
 "nbformat": 4,
 "nbformat_minor": 2
}
